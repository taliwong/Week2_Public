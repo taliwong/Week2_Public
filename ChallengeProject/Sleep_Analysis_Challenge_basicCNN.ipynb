{
  "nbformat": 4,
  "nbformat_minor": 0,
  "metadata": {
    "colab": {
      "name": "Sleep_Analysis_Challenge_basicCNN.ipynb",
      "provenance": [],
      "collapsed_sections": []
    },
    "kernelspec": {
      "display_name": "Python 3",
      "language": "python",
      "name": "python3"
    },
    "accelerator": "GPU"
  },
  "cells": [
    {
      "cell_type": "markdown",
      "metadata": {
        "id": "FB6YunD0Gdgc",
        "colab_type": "text"
      },
      "source": [
        "# \"You Snooze, You Win\" Challenge\n",
        "\n",
        "Every year, the [PhysioNet/CinC (Computing in Cardiology) Challenge](https://www.physionet.org/challenge/) invites \"participants to tackle clinically interesting problems that are either unsolved or not well-solved.\" For this year's week 2 machine learning challenge, BWSI has revived a past PhysioNet challenge based on sleep classification.\n",
        "\n",
        "This year's challenge focuses on the classification of nonarousal and arousal timeframes. If you would like to understand the biological implications of the challenge, we recommend reading PhysioNet's [introduction](https://physionet.org/challenge/2018/) of the challenge.\n",
        "\n",
        "For this challenge, you will classify samples into 5 classes (Arousal, NREM1, NREM2, NREM3, REM). Each sample consists of seven physiological signals (O2-M1, E1-M2, Chin1-Chin2, ABD, CHEST, AIRFLOW, ECG) measured at 200 Hz over a 60 second period (12000 timepoints). In this notebook, we provide code to import the data, visualize sample signals, implement an example classifier, and 'score' your model."
      ]
    },
    {
      "cell_type": "code",
      "metadata": {
        "id": "7ctSzKHoGr1q",
        "colab_type": "code",
        "colab": {}
      },
      "source": [
        "### Import libraries ###\n",
        "\n",
        "from google.colab import files\n",
        "import matplotlib.pyplot as plt\n",
        "import matplotlib\n",
        "\n",
        "#set default plotting fonts\n",
        "font = {'family' : 'sans-serif',\n",
        "        'weight' : 'normal',\n",
        "        'size'   : 20}\n",
        "\n",
        "matplotlib.rc('font', **font)\n",
        "\n",
        "import numpy as np\n",
        "import os\n",
        "import pandas as pd\n",
        "import random\n",
        "from sklearn import metrics\n",
        "from sklearn.utils import shuffle\n",
        "import tensorflow as tf\n",
        "\n",
        "#data preprocessing\n",
        "from sklearn.model_selection import train_test_split\n",
        "from sklearn.preprocessing import StandardScaler\n",
        "\n",
        "#garbage collection (for saving RAM during training)\n",
        "import gc\n"
      ],
      "execution_count": 1,
      "outputs": []
    },
    {
      "cell_type": "markdown",
      "metadata": {
        "id": "_XxIE6ZwGvjh",
        "colab_type": "text"
      },
      "source": [
        "## Loading the Dataset\n",
        "\n",
        "This dataset is a modified version of the PhysioNet/CinC Challenge data, which were contributed by the Massachusetts General Hospital’s Computational Clinical Neurophysiology Laboratory, and the Clinical Data Animation Laboratory.\n",
        "***\n",
        "**Class labels:**\n",
        "- 0 = Arousal\n",
        "- 1 = NREM1\n",
        "- 2 = NREM2\n",
        "- 3 = NREM3\n",
        "- 4 = REM\n",
        "***\n",
        "**Class descriptions:**\n",
        "\n",
        "<img src=\"https://github.com/BeaverWorksMedlytics2020/Data_Public/blob/master/Images/Week2/sleepStagesTable.svg?raw=true\">\n",
        "\n",
        "***\n",
        "**Physiological signal description:**\n",
        "\n",
        "O2-M1 - posterior brain activity (electroencephalography)\n",
        "\n",
        "E1-M2 - left eye activity (electrooculography)\n",
        "\n",
        "Chin1-Chin2 - chin movement (electromyography)\n",
        "\n",
        "ABD - abdominal movement (electromyography)\n",
        "\n",
        "CHEST - chest movement (electromyography)\n",
        "\n",
        "AIRFLOW - respiratory airflow\n",
        "\n",
        "ECG - cardiac activity (electrocardiography)\n",
        "***\n",
        "Run both cell blocks to get the challenge data."
      ]
    },
    {
      "cell_type": "code",
      "metadata": {
        "id": "yfgbZPNYziXt",
        "colab_type": "code",
        "colab": {
          "base_uri": "https://localhost:8080/",
          "height": 158
        },
        "outputId": "7975be04-3baa-4ea0-de1e-e4d59d4afae4"
      },
      "source": [
        "# Clone repo and move into data directory (only run this once)\n",
        "!git clone https://github.com/BeaverWorksMedlytics2020/Data_Public\n",
        "os.chdir('./Data_Public/ChallengeProjects/Week2/')"
      ],
      "execution_count": 2,
      "outputs": [
        {
          "output_type": "stream",
          "text": [
            "Cloning into 'Data_Public'...\n",
            "remote: Enumerating objects: 144, done.\u001b[K\n",
            "remote: Counting objects: 100% (144/144), done.\u001b[K\n",
            "remote: Compressing objects: 100% (121/121), done.\u001b[K\n",
            "remote: Total 5269 (delta 54), reused 60 (delta 23), pack-reused 5125\u001b[K\n",
            "Receiving objects: 100% (5269/5269), 1.11 GiB | 33.92 MiB/s, done.\n",
            "Resolving deltas: 100% (68/68), done.\n",
            "Checking out files: 100% (5130/5130), done.\n"
          ],
          "name": "stdout"
        }
      ]
    },
    {
      "cell_type": "markdown",
      "metadata": {
        "id": "qANF2BvQG2m3",
        "colab_type": "text"
      },
      "source": [
        "## Loading Data in Memory\n",
        "Run the cell below to extract the raw training and test data. It may take a minute or two to run through. Here are the variables containing the data you will get:\n",
        "\n",
        "* **data_train**: np array shape (4000, 12000, 7). Contains 4000 samples (60s each) of 12000 data points (200Hz x 60s), for 7 different signals. \n",
        "* **labels_train**: np array shape (4000,). Contains ground truth labels for data_train. The order of the labels corresponds to the order of the training data.\n",
        "* **ID_train**: list of 4000 unique IDs. The order of the IDs corresponds to the order of the training data. \n",
        "* **data_test**: np array shape (1000, 12000, 7). Contains 1000 samples (60s each) of 12000 data points (200Hz x 60s), for 7 different signals.\n",
        "* **ID_test**: list of 1000 unique IDs. The order of the IDs corresponds to the order of the training data.\n",
        "\n",
        "We encourage you to print each of these variables to see what they look like."
      ]
    },
    {
      "cell_type": "code",
      "metadata": {
        "id": "-Rw8inOvG5QP",
        "colab_type": "code",
        "colab": {
          "base_uri": "https://localhost:8080/",
          "height": 212
        },
        "outputId": "4ebeca66-570c-4788-b2bd-a32464ece276"
      },
      "source": [
        "### Run once to import data ###\n",
        "\n",
        "def get_file_locs():\n",
        "    '''\n",
        "    find all files in 'training' and 'test' directories and put their names \n",
        "    under 'training' and 'test' keys in the file_dict dictionary\n",
        "    '''\n",
        "\n",
        "    file_dict = {'training':[], 'test':[]}\n",
        "    for data_type in file_dict:\n",
        "        for file in os.listdir('./' + data_type):\n",
        "            file_dict[data_type].append(data_type + '/' + file)\n",
        "    \n",
        "    return file_dict\n",
        "\n",
        "def get_sample_data(data_type, id_number):\n",
        "    '''\n",
        "    get signal data, label, and filename associated with given data type and index num\n",
        "\n",
        "    parameters:\n",
        "\n",
        "     data_type -- Dictates whether sample comes from training set or test set.\n",
        "                 This input must be either 'training' or 'test' (defaults to 'training')\n",
        "\n",
        "     id_number -- Which sample ID should be returned? Must be 0-3999 if data_type is 'training'\n",
        "                 or 0-999 if data_type is 'test' (defaults to random integer from 0-999)\n",
        "  \n",
        "    returns:\n",
        "\n",
        "     sample_data -- dataframe with 1 row and 2 columns-- column \"Signal\" contains a series object \n",
        "                    and column \"Label\" contains numeric label for that sample\n",
        "    '''\n",
        "    file = './' + data_type + '/' + str(id_number) + '.xz'\n",
        "\n",
        "    #sample_data is a dataframe with 1 row and 2 columns--\n",
        "    #\"Signal\" (contains a series object) and \"Label\" (contains numeric label)\n",
        "    sample_data = pd.read_pickle('./' + file)\n",
        "\n",
        "    return sample_data, file.split('/')[2]\n",
        "\n",
        "file_dict = get_file_locs()\n",
        "print(f\"{len(file_dict['training'])} training samples found, {len(file_dict['test'])} test samples found\")\n",
        "\n",
        "data_train = np.zeros((4000, 12000, 7))\n",
        "labels_train = np.zeros(4000)\n",
        "ID_train = []\n",
        "for i in range(4000):\n",
        "  sample_data, ID = get_sample_data('training', i)\n",
        "  data_train[i] = np.array(list(sample_data['Signal']), dtype=np.float).reshape(12000, 7)\n",
        "  labels_train[i] = np.array(list(sample_data['Label']), dtype=np.float)\n",
        "  ID_train.append(ID)\n",
        "  if(i%500==0):\n",
        "    print('Loading training sample ' + str(i))\n",
        "  \n",
        "data_test = np.zeros((1000, 12000, 7))\n",
        "ID_test = []\n",
        "for i in range(1000):\n",
        "  sample_data, ID = get_sample_data('test', i)\n",
        "  data_test[i] = np.array(list(sample_data['Signal']), dtype=np.float).reshape(12000, 7)\n",
        "  ID_test.append(ID)\n",
        "  if(i%500==0):\n",
        "    print('Loading test sample ' + str(i))"
      ],
      "execution_count": 3,
      "outputs": [
        {
          "output_type": "stream",
          "text": [
            "4000 training samples found, 1000 test samples found\n",
            "Loading training sample 0\n",
            "Loading training sample 500\n",
            "Loading training sample 1000\n",
            "Loading training sample 1500\n",
            "Loading training sample 2000\n",
            "Loading training sample 2500\n",
            "Loading training sample 3000\n",
            "Loading training sample 3500\n",
            "Loading test sample 0\n",
            "Loading test sample 500\n"
          ],
          "name": "stdout"
        }
      ]
    },
    {
      "cell_type": "markdown",
      "metadata": {
        "id": "KVNgpgciw6p4",
        "colab_type": "text"
      },
      "source": [
        "## Create One-Hot Labels"
      ]
    },
    {
      "cell_type": "code",
      "metadata": {
        "id": "XN0BBD3fHKRq",
        "colab_type": "code",
        "colab": {}
      },
      "source": [
        "### Create label array for all training samples using categorical datatype ###\n",
        "\n",
        "train_labels = np.ndarray(shape = (1, 4000))\n",
        "\n",
        "#set labels to integers first\n",
        "for i in range(4000):\n",
        "    train_labels[0][i] = i//800 # This is a way to label each entry (since classes are in order)\n",
        "\n",
        "#convert labels to onehot, ensure type is float32\n",
        "train_labels = tf.keras.utils.to_categorical(train_labels[0], 5).astype(np.float32)\n"
      ],
      "execution_count": 4,
      "outputs": []
    },
    {
      "cell_type": "markdown",
      "metadata": {
        "id": "yIzqcXmJBHdX",
        "colab_type": "text"
      },
      "source": [
        "## Shuffle and Partition"
      ]
    },
    {
      "cell_type": "code",
      "metadata": {
        "colab_type": "code",
        "id": "buuR3HH9yTOw",
        "colab": {}
      },
      "source": [
        "### Shuffle and partition all train data\n",
        "\n",
        "#(Training data is ordered by default so shuffling before partitioning is important)\n",
        "\n",
        "#--Shuffle data_train--\n",
        "#(Note that data is only shuffled in first dimension, which is what we want)\n",
        "data_train, train_labels = shuffle(data_train, train_labels, random_state = 25, stratify = train_labels)\n",
        "\n",
        "#--Scale all labeled data in data_train--\n",
        "\n",
        "#initialize standard scaler\n",
        "scaler = StandardScaler()\n",
        "\n",
        "#Standard scaler is meant for 2D arrays, so we reshape, scale, and then reshape again\n",
        "reshaped_X_train = data_train.reshape((data_train.shape[0]*data_train.shape[1], data_train.shape[2])).copy()\n",
        "reshaped_X_train = scaler.fit_transform(reshaped_X_train)\n",
        "data_train = reshaped_X_train.reshape((data_train.shape[0], data_train.shape[1], data_train.shape[2]))\n",
        "\n",
        "del reshaped_X_train #get rid of large temporary variable\n",
        "\n",
        "#--Scale unlabeled test data--\n",
        "#Because we scaled labeled data before training, we need to also scale test data --\n",
        "\n",
        "#Standard scaler is meant for 2D arrays, so we reshape, apply scaling, and then \n",
        "#reshape again to get back to original\n",
        "reshaped_X_test = data_test.reshape((data_test.shape[0]*data_test.shape[1], data_test.shape[2])).copy()\n",
        "reshaped_X_test = scaler.transform(reshaped_X_test)\n",
        "data_test = reshaped_X_test.reshape((data_test.shape[0], data_test.shape[1], data_test.shape[2]))\n",
        "\n",
        "del reshaped_X_test #get rid of large temporary variable\n",
        "\n",
        "#--create 3 partitions of provided training data--\n",
        "# Note we are breaking up provided labeled data into training, validation, and \"mock test\" sets\n",
        "\n",
        "val_size = 1000\n",
        "mocktest_size = 500\n",
        "\n",
        "mocktest_data = data_train[0:mocktest_size, :, :]\n",
        "mocktest_labels = train_labels[0:mocktest_size, :]\n",
        "\n",
        "val_data = data_train[mocktest_size:mocktest_size+val_size, :, :]\n",
        "val_labels = train_labels[mocktest_size:mocktest_size+val_size, :]\n",
        "\n",
        "partial_train_data = data_train[mocktest_size+val_size:,:,:]\n",
        "tr_labels = train_labels[mocktest_size+val_size:,:]"
      ],
      "execution_count": 5,
      "outputs": []
    },
    {
      "cell_type": "code",
      "metadata": {
        "id": "sOcj_uuUHP3Z",
        "colab_type": "code",
        "colab": {
          "base_uri": "https://localhost:8080/",
          "height": 443
        },
        "outputId": "83ae3594-9b9b-41ec-8719-3d71a18eadb5"
      },
      "source": [
        "### Run every time you change set of parameters ###\n",
        "\n",
        "model = tf.keras.Sequential()\n",
        "\n",
        "\"\"\" Modify to your heart's and algorithm's content ^_^ \"\"\"\n",
        "\n",
        "model.add(tf.keras.layers.Conv1D(filters = 50, kernel_size = 50, padding = 'valid',\n",
        "                                 activation=tf.nn.relu, \n",
        "                                 input_shape=(partial_train_data.shape[1],partial_train_data.shape[2])))\n",
        "\n",
        "#take maximum activation value from each convolution result and pass to next layer\n",
        "model.add(tf.keras.layers.GlobalMaxPooling1D())\n",
        "\n",
        "#insert a dense layer with 64 units\n",
        "model.add(tf.keras.layers.Dense(64, activation=tf.nn.relu))\n",
        "model.add(tf.keras.layers.Dropout(rate=0.4))\n",
        "model.add(tf.keras.layers.Dense(64, activation=tf.nn.relu))\n",
        "model.add(tf.keras.layers.Dropout(rate=0.4))\n",
        "model.add(tf.keras.layers.Dense(64, activation=tf.nn.relu))\n",
        "# we should end with a softmax to ensure outputs behave like probabilities\n",
        "#(i.e. sum to 1)\n",
        "model.add(tf.keras.layers.Dense(5, activation=tf.nn.softmax)) \n",
        "\n",
        "opt = tf.keras.optimizers.RMSprop(learning_rate=0.001)\n",
        "#Another potential optimizer\n",
        "#opt = tf.keras.optimizers.Adam(learning_rate=0.0005)\n",
        "model.compile(loss='categorical_crossentropy', optimizer=opt, metrics=['accuracy'])\n",
        "\n",
        "model.summary()"
      ],
      "execution_count": 62,
      "outputs": [
        {
          "output_type": "stream",
          "text": [
            "Model: \"sequential_18\"\n",
            "_________________________________________________________________\n",
            "Layer (type)                 Output Shape              Param #   \n",
            "=================================================================\n",
            "conv1d_18 (Conv1D)           (None, 11951, 50)         17550     \n",
            "_________________________________________________________________\n",
            "global_max_pooling1d_19 (Glo (None, 50)                0         \n",
            "_________________________________________________________________\n",
            "dense_60 (Dense)             (None, 64)                3264      \n",
            "_________________________________________________________________\n",
            "dropout_7 (Dropout)          (None, 64)                0         \n",
            "_________________________________________________________________\n",
            "dense_61 (Dense)             (None, 64)                4160      \n",
            "_________________________________________________________________\n",
            "dropout_8 (Dropout)          (None, 64)                0         \n",
            "_________________________________________________________________\n",
            "dense_62 (Dense)             (None, 64)                4160      \n",
            "_________________________________________________________________\n",
            "dense_63 (Dense)             (None, 5)                 325       \n",
            "=================================================================\n",
            "Total params: 29,459\n",
            "Trainable params: 29,459\n",
            "Non-trainable params: 0\n",
            "_________________________________________________________________\n"
          ],
          "name": "stdout"
        }
      ]
    },
    {
      "cell_type": "code",
      "metadata": {
        "id": "lhhsAXXJHRvJ",
        "colab_type": "code",
        "colab": {
          "base_uri": "https://localhost:8080/",
          "height": 1000
        },
        "outputId": "87f5f03b-4782-4a3a-dd09-4c3fccfcf9e0"
      },
      "source": [
        "### Run whenever you want to train and validate your model ###\n",
        "\n",
        "\"\"\"\n",
        "EPOCHS (int) the number of times the optimization algorithm passes\n",
        "through the full dataset (calculating errors and derivatives) to update weights\n",
        "(One pass through the data is called an \"epoch\")\n",
        "\"\"\"\n",
        "\n",
        "#This function is called after each epoch\n",
        "#(It will ensure that your training process does not consume all available RAM)\n",
        "class garbage_collect_callback(tf.keras.callbacks.Callback):\n",
        "  def on_epoch_end(self, epoch, logs=None):\n",
        "    gc.collect()\n",
        "\n",
        "history = model.fit(partial_train_data, # Train examples\n",
        "          tr_labels, # Train labels\n",
        "          epochs=75, # number of epochs (passes through data during training)\n",
        "          batch_size=500, # number of points to consider in each optimizer iteration\n",
        "          callbacks = [garbage_collect_callback()],\n",
        "          validation_data=(val_data, val_labels), #data to use for validation\n",
        "          verbose=1) #will print information about optimization process\n"
      ],
      "execution_count": 63,
      "outputs": [
        {
          "output_type": "stream",
          "text": [
            "Epoch 1/75\n",
            "5/5 [==============================] - 3s 662ms/step - loss: 1.7410 - accuracy: 0.2100 - val_loss: 1.6111 - val_accuracy: 0.2460\n",
            "Epoch 2/75\n",
            "5/5 [==============================] - 3s 645ms/step - loss: 1.6354 - accuracy: 0.2340 - val_loss: 1.5986 - val_accuracy: 0.2330\n",
            "Epoch 3/75\n",
            "5/5 [==============================] - 3s 621ms/step - loss: 1.6125 - accuracy: 0.2436 - val_loss: 1.5855 - val_accuracy: 0.2940\n",
            "Epoch 4/75\n",
            "5/5 [==============================] - 3s 638ms/step - loss: 1.6129 - accuracy: 0.2564 - val_loss: 1.5813 - val_accuracy: 0.2810\n",
            "Epoch 5/75\n",
            "5/5 [==============================] - 3s 636ms/step - loss: 1.6033 - accuracy: 0.2544 - val_loss: 1.5780 - val_accuracy: 0.2910\n",
            "Epoch 6/75\n",
            "5/5 [==============================] - 3s 647ms/step - loss: 1.5875 - accuracy: 0.2740 - val_loss: 1.5802 - val_accuracy: 0.2860\n",
            "Epoch 7/75\n",
            "5/5 [==============================] - 3s 623ms/step - loss: 1.5749 - accuracy: 0.2876 - val_loss: 1.5884 - val_accuracy: 0.3160\n",
            "Epoch 8/75\n",
            "5/5 [==============================] - 3s 644ms/step - loss: 1.5870 - accuracy: 0.3012 - val_loss: 1.5605 - val_accuracy: 0.3710\n",
            "Epoch 9/75\n",
            "5/5 [==============================] - 3s 649ms/step - loss: 1.5714 - accuracy: 0.3112 - val_loss: 1.5723 - val_accuracy: 0.3700\n",
            "Epoch 10/75\n",
            "5/5 [==============================] - 3s 638ms/step - loss: 1.5716 - accuracy: 0.3336 - val_loss: 1.5705 - val_accuracy: 0.3080\n",
            "Epoch 11/75\n",
            "5/5 [==============================] - 3s 638ms/step - loss: 1.5498 - accuracy: 0.3280 - val_loss: 1.5623 - val_accuracy: 0.3670\n",
            "Epoch 12/75\n",
            "5/5 [==============================] - 3s 642ms/step - loss: 1.5422 - accuracy: 0.3392 - val_loss: 1.5316 - val_accuracy: 0.4020\n",
            "Epoch 13/75\n",
            "5/5 [==============================] - 3s 634ms/step - loss: 1.5433 - accuracy: 0.3632 - val_loss: 1.5346 - val_accuracy: 0.3670\n",
            "Epoch 14/75\n",
            "5/5 [==============================] - 3s 643ms/step - loss: 1.5336 - accuracy: 0.3400 - val_loss: 1.5042 - val_accuracy: 0.4050\n",
            "Epoch 15/75\n",
            "5/5 [==============================] - 3s 651ms/step - loss: 1.5003 - accuracy: 0.3844 - val_loss: 1.4853 - val_accuracy: 0.3960\n",
            "Epoch 16/75\n",
            "5/5 [==============================] - 3s 641ms/step - loss: 1.4970 - accuracy: 0.3772 - val_loss: 1.4718 - val_accuracy: 0.3980\n",
            "Epoch 17/75\n",
            "5/5 [==============================] - 3s 622ms/step - loss: 1.4873 - accuracy: 0.3972 - val_loss: 1.4839 - val_accuracy: 0.4190\n",
            "Epoch 18/75\n",
            "5/5 [==============================] - 3s 641ms/step - loss: 1.4554 - accuracy: 0.3996 - val_loss: 1.4604 - val_accuracy: 0.4360\n",
            "Epoch 19/75\n",
            "5/5 [==============================] - 3s 640ms/step - loss: 1.4516 - accuracy: 0.4048 - val_loss: 1.4539 - val_accuracy: 0.4250\n",
            "Epoch 20/75\n",
            "5/5 [==============================] - 3s 631ms/step - loss: 1.4558 - accuracy: 0.4048 - val_loss: 1.4240 - val_accuracy: 0.4180\n",
            "Epoch 21/75\n",
            "5/5 [==============================] - 3s 650ms/step - loss: 1.4102 - accuracy: 0.4184 - val_loss: 1.4295 - val_accuracy: 0.4270\n",
            "Epoch 22/75\n",
            "5/5 [==============================] - 3s 623ms/step - loss: 1.3995 - accuracy: 0.4152 - val_loss: 1.4086 - val_accuracy: 0.4450\n",
            "Epoch 23/75\n",
            "5/5 [==============================] - 3s 635ms/step - loss: 1.4163 - accuracy: 0.4204 - val_loss: 1.4396 - val_accuracy: 0.4280\n",
            "Epoch 24/75\n",
            "5/5 [==============================] - 3s 641ms/step - loss: 1.4062 - accuracy: 0.4344 - val_loss: 1.3961 - val_accuracy: 0.4410\n",
            "Epoch 25/75\n",
            "5/5 [==============================] - 3s 645ms/step - loss: 1.3620 - accuracy: 0.4448 - val_loss: 1.3829 - val_accuracy: 0.4410\n",
            "Epoch 26/75\n",
            "5/5 [==============================] - 3s 646ms/step - loss: 1.4000 - accuracy: 0.4308 - val_loss: 1.3663 - val_accuracy: 0.4510\n",
            "Epoch 27/75\n",
            "5/5 [==============================] - 3s 638ms/step - loss: 1.3497 - accuracy: 0.4416 - val_loss: 1.3769 - val_accuracy: 0.4560\n",
            "Epoch 28/75\n",
            "5/5 [==============================] - 3s 640ms/step - loss: 1.3434 - accuracy: 0.4472 - val_loss: 1.4421 - val_accuracy: 0.4170\n",
            "Epoch 29/75\n",
            "5/5 [==============================] - 3s 643ms/step - loss: 1.3527 - accuracy: 0.4444 - val_loss: 1.3776 - val_accuracy: 0.4630\n",
            "Epoch 30/75\n",
            "5/5 [==============================] - 3s 632ms/step - loss: 1.3514 - accuracy: 0.4520 - val_loss: 1.4193 - val_accuracy: 0.4450\n",
            "Epoch 31/75\n",
            "5/5 [==============================] - 3s 630ms/step - loss: 1.3207 - accuracy: 0.4580 - val_loss: 1.4498 - val_accuracy: 0.3970\n",
            "Epoch 32/75\n",
            "5/5 [==============================] - 3s 647ms/step - loss: 1.3481 - accuracy: 0.4528 - val_loss: 1.3842 - val_accuracy: 0.4610\n",
            "Epoch 33/75\n",
            "5/5 [==============================] - 3s 642ms/step - loss: 1.3038 - accuracy: 0.4588 - val_loss: 1.3929 - val_accuracy: 0.4670\n",
            "Epoch 34/75\n",
            "5/5 [==============================] - 3s 634ms/step - loss: 1.2903 - accuracy: 0.4728 - val_loss: 1.3723 - val_accuracy: 0.4720\n",
            "Epoch 35/75\n",
            "5/5 [==============================] - 3s 640ms/step - loss: 1.2770 - accuracy: 0.4804 - val_loss: 1.3984 - val_accuracy: 0.4580\n",
            "Epoch 36/75\n",
            "5/5 [==============================] - 3s 655ms/step - loss: 1.3187 - accuracy: 0.4572 - val_loss: 1.3524 - val_accuracy: 0.4640\n",
            "Epoch 37/75\n",
            "5/5 [==============================] - 3s 646ms/step - loss: 1.2750 - accuracy: 0.4840 - val_loss: 1.3531 - val_accuracy: 0.4600\n",
            "Epoch 38/75\n",
            "5/5 [==============================] - 3s 640ms/step - loss: 1.2643 - accuracy: 0.4780 - val_loss: 1.3676 - val_accuracy: 0.4720\n",
            "Epoch 39/75\n",
            "5/5 [==============================] - 3s 639ms/step - loss: 1.3178 - accuracy: 0.4572 - val_loss: 1.3971 - val_accuracy: 0.4700\n",
            "Epoch 40/75\n",
            "5/5 [==============================] - 3s 627ms/step - loss: 1.2646 - accuracy: 0.4752 - val_loss: 1.4202 - val_accuracy: 0.4800\n",
            "Epoch 41/75\n",
            "5/5 [==============================] - 3s 630ms/step - loss: 1.2827 - accuracy: 0.4696 - val_loss: 1.4303 - val_accuracy: 0.4590\n",
            "Epoch 42/75\n",
            "5/5 [==============================] - 3s 629ms/step - loss: 1.3014 - accuracy: 0.4504 - val_loss: 1.3685 - val_accuracy: 0.4910\n",
            "Epoch 43/75\n",
            "5/5 [==============================] - 3s 635ms/step - loss: 1.2528 - accuracy: 0.4988 - val_loss: 1.4182 - val_accuracy: 0.4530\n",
            "Epoch 44/75\n",
            "5/5 [==============================] - 3s 635ms/step - loss: 1.2505 - accuracy: 0.4916 - val_loss: 1.4242 - val_accuracy: 0.4730\n",
            "Epoch 45/75\n",
            "5/5 [==============================] - 3s 643ms/step - loss: 1.2801 - accuracy: 0.4676 - val_loss: 1.4247 - val_accuracy: 0.4880\n",
            "Epoch 46/75\n",
            "5/5 [==============================] - 3s 636ms/step - loss: 1.2260 - accuracy: 0.5080 - val_loss: 1.3622 - val_accuracy: 0.4800\n",
            "Epoch 47/75\n",
            "5/5 [==============================] - 3s 646ms/step - loss: 1.2201 - accuracy: 0.4884 - val_loss: 1.4064 - val_accuracy: 0.4790\n",
            "Epoch 48/75\n",
            "5/5 [==============================] - 3s 639ms/step - loss: 1.2552 - accuracy: 0.4828 - val_loss: 1.3523 - val_accuracy: 0.4840\n",
            "Epoch 49/75\n",
            "5/5 [==============================] - 3s 638ms/step - loss: 1.2163 - accuracy: 0.5040 - val_loss: 1.3763 - val_accuracy: 0.4700\n",
            "Epoch 50/75\n",
            "5/5 [==============================] - 3s 638ms/step - loss: 1.2335 - accuracy: 0.4928 - val_loss: 1.4233 - val_accuracy: 0.4640\n",
            "Epoch 51/75\n",
            "5/5 [==============================] - 3s 636ms/step - loss: 1.1938 - accuracy: 0.5144 - val_loss: 1.4098 - val_accuracy: 0.4860\n",
            "Epoch 52/75\n",
            "5/5 [==============================] - 3s 631ms/step - loss: 1.2132 - accuracy: 0.4900 - val_loss: 1.5727 - val_accuracy: 0.4390\n",
            "Epoch 53/75\n",
            "5/5 [==============================] - 3s 645ms/step - loss: 1.2561 - accuracy: 0.4896 - val_loss: 1.3985 - val_accuracy: 0.4980\n",
            "Epoch 54/75\n",
            "5/5 [==============================] - 3s 654ms/step - loss: 1.1864 - accuracy: 0.5132 - val_loss: 1.4816 - val_accuracy: 0.4360\n",
            "Epoch 55/75\n",
            "5/5 [==============================] - 3s 647ms/step - loss: 1.2273 - accuracy: 0.4912 - val_loss: 1.4000 - val_accuracy: 0.5030\n",
            "Epoch 56/75\n",
            "5/5 [==============================] - 3s 643ms/step - loss: 1.1757 - accuracy: 0.5172 - val_loss: 1.3453 - val_accuracy: 0.5020\n",
            "Epoch 57/75\n",
            "5/5 [==============================] - 3s 637ms/step - loss: 1.1659 - accuracy: 0.5176 - val_loss: 1.3736 - val_accuracy: 0.4960\n",
            "Epoch 58/75\n",
            "5/5 [==============================] - 3s 636ms/step - loss: 1.2107 - accuracy: 0.5028 - val_loss: 1.5057 - val_accuracy: 0.4580\n",
            "Epoch 59/75\n",
            "5/5 [==============================] - 3s 650ms/step - loss: 1.2110 - accuracy: 0.4996 - val_loss: 1.3992 - val_accuracy: 0.5080\n",
            "Epoch 60/75\n",
            "5/5 [==============================] - 3s 646ms/step - loss: 1.1651 - accuracy: 0.5260 - val_loss: 1.3938 - val_accuracy: 0.4860\n",
            "Epoch 61/75\n",
            "5/5 [==============================] - 3s 636ms/step - loss: 1.1888 - accuracy: 0.5148 - val_loss: 1.4087 - val_accuracy: 0.4660\n",
            "Epoch 62/75\n",
            "5/5 [==============================] - 3s 648ms/step - loss: 1.1591 - accuracy: 0.5312 - val_loss: 1.4769 - val_accuracy: 0.4890\n",
            "Epoch 63/75\n",
            "5/5 [==============================] - 3s 643ms/step - loss: 1.1674 - accuracy: 0.5396 - val_loss: 1.3545 - val_accuracy: 0.5100\n",
            "Epoch 64/75\n",
            "5/5 [==============================] - 3s 641ms/step - loss: 1.2093 - accuracy: 0.5004 - val_loss: 1.4640 - val_accuracy: 0.4710\n",
            "Epoch 65/75\n",
            "5/5 [==============================] - 3s 642ms/step - loss: 1.1459 - accuracy: 0.5480 - val_loss: 1.3981 - val_accuracy: 0.5210\n",
            "Epoch 66/75\n",
            "5/5 [==============================] - 3s 636ms/step - loss: 1.1761 - accuracy: 0.5196 - val_loss: 1.4027 - val_accuracy: 0.5160\n",
            "Epoch 67/75\n",
            "5/5 [==============================] - 4s 704ms/step - loss: 1.1455 - accuracy: 0.5328 - val_loss: 1.5253 - val_accuracy: 0.4570\n",
            "Epoch 68/75\n",
            "5/5 [==============================] - 3s 642ms/step - loss: 1.1569 - accuracy: 0.5244 - val_loss: 1.3764 - val_accuracy: 0.5150\n",
            "Epoch 69/75\n",
            "5/5 [==============================] - 3s 627ms/step - loss: 1.1653 - accuracy: 0.5160 - val_loss: 1.4720 - val_accuracy: 0.4880\n",
            "Epoch 70/75\n",
            "5/5 [==============================] - 3s 654ms/step - loss: 1.1617 - accuracy: 0.5132 - val_loss: 1.4330 - val_accuracy: 0.5040\n",
            "Epoch 71/75\n",
            "5/5 [==============================] - 3s 628ms/step - loss: 1.1200 - accuracy: 0.5368 - val_loss: 1.4037 - val_accuracy: 0.5210\n",
            "Epoch 72/75\n",
            "5/5 [==============================] - 3s 627ms/step - loss: 1.1401 - accuracy: 0.5396 - val_loss: 1.5001 - val_accuracy: 0.4580\n",
            "Epoch 73/75\n",
            "5/5 [==============================] - 3s 636ms/step - loss: 1.1453 - accuracy: 0.5332 - val_loss: 1.3955 - val_accuracy: 0.5210\n",
            "Epoch 74/75\n",
            "5/5 [==============================] - 3s 641ms/step - loss: 1.1332 - accuracy: 0.5448 - val_loss: 1.4724 - val_accuracy: 0.5100\n",
            "Epoch 75/75\n",
            "5/5 [==============================] - 3s 621ms/step - loss: 1.1293 - accuracy: 0.5268 - val_loss: 1.4497 - val_accuracy: 0.4940\n"
          ],
          "name": "stdout"
        }
      ]
    },
    {
      "cell_type": "code",
      "metadata": {
        "id": "CRk6Xh_LHTXB",
        "colab_type": "code",
        "colab": {
          "base_uri": "https://localhost:8080/",
          "height": 16
        },
        "outputId": "ca9ee0c4-1cd8-4a00-ec04-c4a475879b05"
      },
      "source": [
        "### Run once after you have finished training your model ###\n",
        "#Reminder: Please ensure order of test data points has not been changed.\n",
        "\n",
        "#-- Evaluate model for test data --\n",
        "test_pred = model.predict(data_test)\n",
        "test_output = np.ndarray(shape = (1000, 6))\n",
        "\n",
        "#-- Write test output to dataframe and save to pickle file --\n",
        "test_dataframe = pd.DataFrame(test_output)\n",
        "\n",
        "file = 'unladen_swallow.xz'\n",
        "test_dataframe.to_pickle(file)\n",
        "test_dataframe = pd.DataFrame(test_output)\n",
        "os.listdir('.')\n",
        "files.download(file)\n"
      ],
      "execution_count": 20,
      "outputs": [
        {
          "output_type": "display_data",
          "data": {
            "application/javascript": [
              "\n",
              "    async function download(id, filename, size) {\n",
              "      if (!google.colab.kernel.accessAllowed) {\n",
              "        return;\n",
              "      }\n",
              "      const div = document.createElement('div');\n",
              "      const label = document.createElement('label');\n",
              "      label.textContent = `Downloading \"${filename}\": `;\n",
              "      div.appendChild(label);\n",
              "      const progress = document.createElement('progress');\n",
              "      progress.max = size;\n",
              "      div.appendChild(progress);\n",
              "      document.body.appendChild(div);\n",
              "\n",
              "      const buffers = [];\n",
              "      let downloaded = 0;\n",
              "\n",
              "      const channel = await google.colab.kernel.comms.open(id);\n",
              "      // Send a message to notify the kernel that we're ready.\n",
              "      channel.send({})\n",
              "\n",
              "      for await (const message of channel.messages) {\n",
              "        // Send a message to notify the kernel that we're ready.\n",
              "        channel.send({})\n",
              "        if (message.buffers) {\n",
              "          for (const buffer of message.buffers) {\n",
              "            buffers.push(buffer);\n",
              "            downloaded += buffer.byteLength;\n",
              "            progress.value = downloaded;\n",
              "          }\n",
              "        }\n",
              "      }\n",
              "      const blob = new Blob(buffers, {type: 'application/binary'});\n",
              "      const a = document.createElement('a');\n",
              "      a.href = window.URL.createObjectURL(blob);\n",
              "      a.download = filename;\n",
              "      div.appendChild(a);\n",
              "      a.click();\n",
              "      div.remove();\n",
              "    }\n",
              "  "
            ],
            "text/plain": [
              "<IPython.core.display.Javascript object>"
            ]
          },
          "metadata": {
            "tags": []
          }
        },
        {
          "output_type": "display_data",
          "data": {
            "application/javascript": [
              "download(\"download_8e7d8b1c-bc00-45ef-b383-72000955b1f0\", \"unladen_swallow.xz\", 4312)"
            ],
            "text/plain": [
              "<IPython.core.display.Javascript object>"
            ]
          },
          "metadata": {
            "tags": []
          }
        }
      ]
    },
    {
      "cell_type": "markdown",
      "metadata": {
        "id": "bduvOuTtHVfK",
        "colab_type": "text"
      },
      "source": [
        "## Submitting Your Model\n",
        "\n",
        "After training your classifier, run it on the test data to generate your predictions. Each class for a test sample should have an associated probability (between 0 and 1). Below are the parameters for the prediction format and export:\n",
        "\n",
        "- Your predictions should be in a pandas dataframe with 5 columns (classes) and 1000 rows (samples). Note that your predictions must follow the original test sample order (0.xz, 1.xz, 2.xz, ...). You only need to worry about this if you shuffled the test samples or stored the samples in an unordered data structure (dictionaries and sets). If this is the case, you should 1) add a separate column in your pandas dataframe with the file number for each sample; 2) sort the dataframe using this column; and 3) drop the column. These steps have been noted in the code below.\n",
        "- The predictions dataframe should be exported as an .xz file using dataframe.to_pickle() followed by files.download().\n",
        "\n",
        "Example code of the prediction format and export is presented in the cell block below. "
      ]
    },
    {
      "cell_type": "markdown",
      "metadata": {
        "id": "8TiEUxHcZz_D",
        "colab_type": "text"
      },
      "source": [
        "Your model will be evaluated on Area Under the ROC Curve (ROCAUC), Matthews Correlation Coefficient (MCC) and creativity. There will be a \"winning\" group for each of these categories.\n",
        "\n",
        "If you are finished early, consider trying other ML algorithms and/or implementing multiple feature extraction methods. You can also help other groups if you finish early."
      ]
    },
    {
      "cell_type": "markdown",
      "metadata": {
        "id": "LDQWbhUK6cMt",
        "colab_type": "text"
      },
      "source": [
        "## How Your Model Will Be Evaluated\n",
        "\n",
        "- **Area Under the ROC Curve (AUCROC)**: The receiver operating characteristic (ROC) curve plots the true positive rate (sensitivity/recall) against the false positive rate (fall-out) at many decision threshold settings. The area under the curve (AUC) measures discrimination, the classifier's ability to correctly identify samples from the \"positive\" and \"negative\" cases. Intuitively, AUC is the probability that a randomly chosen \"positive\" sample will be labeled as \"more positive\" than a randomly chosen \"negative\" sample. In the case of a multi-class ROC curve, each class is considered separately before taking the weighted average of all the class results. Simply put, the class under consideration is labeled as \"positive\" while all other classes are labeled as \"negative.\" Below is the multi-class ROC curve for the example classifier. The AUCROC score should be between 0 and 1, in which 0.5 is random classification and 1 is perfect classification.\n",
        "\n",
        "<img src=\"https://github.com/BeaverWorksMedlytics2020/Data_Public/blob/master/Images/Week2/MultiClassRocCurve_exampleClassifier.png?raw=true\" width=\"600\" height=\"500\">\n",
        "\n",
        "- **Matthews Correlation Coefficient (MCC)**: The MCC measures the quality of binary classifications, irrespective of the class sizes. Importantly, it is typically regarded as a balanced measure since it considers all values in the 2x2 contingency table (TP, FP, TN, FN). For this challenge, the binary classes will be \"Arousal\" (Arousal) and \"Nonarousal\" (NREM1, NREM2, NREM3, REM). The MCC score should be between -1 and 1, in which 0 is random classification and 1 is perfect classification.\n",
        "\n",
        " ![alt text](https://wikimedia.org/api/rest_v1/media/math/render/svg/5caa90fc15105b74b59a30bbc9cc2e5bd43a13b7)\n",
        "\n",
        "Using these metrics, the example classifier has the following scores on test data:\n",
        "- AUCROC: 0.727\n",
        "- MCC: 0.163\n",
        "- Creativity: ( ͡° ͜ʖ ͡°)\n",
        "\n",
        "Below is the code used to calculate the AUCROC and MCC metrics when evaluating your classifier."
      ]
    },
    {
      "cell_type": "code",
      "metadata": {
        "id": "vOpioHig8688",
        "colab_type": "code",
        "colab": {}
      },
      "source": [
        "test_pred = pd.DataFrame(model.predict(mocktest_data))\n",
        "test_predict = test_pred.idxmax(axis=1)\n",
        "test_labels = [ np.where(label==1)[0][0] for label in mocktest_labels]\n",
        "test_labels_one_hot = pd.DataFrame(mocktest_labels)"
      ],
      "execution_count": 64,
      "outputs": []
    },
    {
      "cell_type": "code",
      "metadata": {
        "id": "vIlfwfksLp-j",
        "colab_type": "code",
        "colab": {
          "base_uri": "https://localhost:8080/",
          "height": 621
        },
        "outputId": "4c2759db-d036-417d-e524-5765b36b5b8c"
      },
      "source": [
        "fpr = {}\n",
        "tpr = {}\n",
        "roc_auc = {}\n",
        "\n",
        "\"\"\" Initalize key reference dictionaries \"\"\"\n",
        "sig_dict = {0:'O2-M1', 1:'E1-M2', 2:'Chin1-Chin2', 3:'ABD', 4:'CHEST', 5:'AIRFLOW', 6:'ECG'}\n",
        "sig_type_dict = {0:'Time (s)', 1:'Frequency (Hz)'}\n",
        "stage_dict = {0:'Arousal', 1:'NREM1', 2:'NREM2', 3:'NREM3', 4:'REM'}\n",
        "\n",
        "plt.figure(figsize=(14,10))\n",
        "for i in range(5):\n",
        "    fpr[i], tpr[i], _ = metrics.roc_curve(test_labels_one_hot.iloc[:, i], test_pred.iloc[:, i])\n",
        "    roc_auc[i] = metrics.auc(fpr[i], tpr[i])\n",
        "    plt.plot(fpr[i], tpr[i], label = stage_dict[i] + ', ' + str(i))\n",
        "\n",
        "plt.plot([0, 1], [0, 1])\n",
        "plt.xlabel('False Positive Rate')\n",
        "plt.ylabel('True Positive Rate')\n",
        "plt.title('Multi-Class ROC Curve')\n",
        "plt.legend()\n",
        "plt.show()\n",
        "\n",
        "fpr[\"micro\"], tpr[\"micro\"], _ = metrics.roc_curve(test_labels_one_hot.values.ravel(), test_pred.values.ravel())\n",
        "roc_auc_agg = metrics.auc(fpr[\"micro\"], tpr[\"micro\"])"
      ],
      "execution_count": 65,
      "outputs": [
        {
          "output_type": "display_data",
          "data": {
            "image/png": "[encoded data removed]",
            "text/plain": [
              "<Figure size 1008x720 with 1 Axes>"
            ]
          },
          "metadata": {
            "tags": [],
            "needs_background": "light"
          }
        }
      ]
    },
    {
      "cell_type": "code",
      "metadata": {
        "id": "XO1I5lme8oya",
        "colab_type": "code",
        "colab": {}
      },
      "source": [
        "y_true = []\n",
        "y_pred = []\n",
        "for i in range(test_pred.shape[0]):\n",
        "    if test_predict.iloc[i]==0: y_pred.append(1)\n",
        "    else: y_pred.append(-1)\n",
        "    if test_labels[i]==0: y_true.append(1)\n",
        "    else: y_true.append(-1)\n",
        "mcc = metrics.matthews_corrcoef(y_true, y_pred)"
      ],
      "execution_count": 66,
      "outputs": []
    },
    {
      "cell_type": "code",
      "metadata": {
        "id": "Fo7edcTTC6yD",
        "colab_type": "code",
        "colab": {
          "base_uri": "https://localhost:8080/",
          "height": 34
        },
        "outputId": "ee109808-1d35-4546-e6a3-792f1369b964"
      },
      "source": [
        "print(roc_auc_agg, mcc)"
      ],
      "execution_count": 67,
      "outputs": [
        {
          "output_type": "stream",
          "text": [
            "0.82476 0.23640679976269605\n"
          ],
          "name": "stdout"
        }
      ]
    },
    {
      "cell_type": "code",
      "metadata": {
        "id": "geoQdupeKtBf",
        "colab_type": "code",
        "colab": {}
      },
      "source": [
        ""
      ],
      "execution_count": null,
      "outputs": []
    }
  ]
}